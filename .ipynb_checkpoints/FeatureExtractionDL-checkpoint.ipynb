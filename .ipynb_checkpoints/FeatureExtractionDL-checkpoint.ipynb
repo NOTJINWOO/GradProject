{
 "cells": [
  {
   "cell_type": "code",
   "execution_count": 1,
   "id": "0fc2bf77",
   "metadata": {},
   "outputs": [],
   "source": [
    "import numpy as np\n",
    "import csv\n",
    "from rdkit import Chem\n",
    "import matplotlib.pyplot as plt\n",
    "%matplotlib inline\n",
    "\n",
    "from tensorflow.keras import layers, models, optimizers\n",
    "from tensorflow.keras.layers import Conv2D, Conv2DTranspose, Dense, Flatten, Dropout, BatchNormalization, Reshape, LeakyReLU\n",
    "from tensorflow.keras.models import Model, Sequential\n",
    "from tensorflow.keras.callbacks import ModelCheckpoint\n",
    "from tensorflow.keras.utils import to_categorical\n",
    "import tensorflow as tf"
   ]
  },
  {
   "cell_type": "code",
   "execution_count": 2,
   "id": "f68d56eb",
   "metadata": {},
   "outputs": [],
   "source": [
    "SMILES_CHARS = [' ',\n",
    "                  '#', '%', '(', ')', '+', '-', '.', '/', '_', '_', '_', '_', '_', '_', '_', '_'\n",
    "                  '0', '1', '2', '3', '4', '5', '6', '7', '8', '9',\n",
    "                  '=', '@',\n",
    "                  'A', 'B', 'C', 'F', 'H', 'I', 'K', 'L', 'M', 'N', 'O', 'P',\n",
    "                  'R', 'S', 'T', 'V', 'X', 'Z',\n",
    "                  '[', '\\\\', ']',\n",
    "                  'a', 'b', 'c', 'e', 'g', 'i', 'l', 'n', 'o', 'p', 'r', 's',\n",
    "                  't', 'u', 'd']\n",
    "smi2index = dict( (c,i) for i,c in enumerate( SMILES_CHARS ) )\n",
    "index2smi = dict( (i,c) for i,c in enumerate( SMILES_CHARS ) )\n",
    "def smiles_encoder( smiles, maxlen=1024 ):\n",
    "    smiles = Chem.MolToSmiles(Chem.MolFromSmiles( smiles ))\n",
    "    X = np.zeros( ( maxlen, len( SMILES_CHARS ) ) )\n",
    "    for i, c in enumerate( smiles ):\n",
    "        X[i, smi2index[c] ] = 1\n",
    "    return X\n"
   ]
  },
  {
   "cell_type": "code",
   "execution_count": 3,
   "id": "1403ff1b",
   "metadata": {},
   "outputs": [],
   "source": [
    "cid = []\n",
    "smiles = []\n",
    "with open('SMILES.csv', 'r') as csvfile: \n",
    "    reader = csv.reader(csvfile, skipinitialspace=True)\n",
    "    next(reader)\n",
    "    for num, val in reader:\n",
    "        cid.append(num)\n",
    "        smiles.append(val)"
   ]
  },
  {
   "cell_type": "code",
   "execution_count": 4,
   "id": "36990268",
   "metadata": {
    "scrolled": true
   },
   "outputs": [
    {
     "name": "stdout",
     "output_type": "stream",
     "text": [
      "(155, 1024, 64)\n"
     ]
    }
   ],
   "source": [
    "temp_list = []\n",
    "for i in smiles:\n",
    "    temp_list.append(smiles_encoder(i))\n",
    "onehot_smiles_list = np.array(temp_list)\n",
    "print(onehot_smiles_list.shape)"
   ]
  },
  {
   "cell_type": "code",
   "execution_count": 5,
   "id": "bc227b70",
   "metadata": {},
   "outputs": [
    {
     "name": "stdout",
     "output_type": "stream",
     "text": [
      "(155, 1024, 64, 1)\n"
     ]
    }
   ],
   "source": [
    "train_x = onehot_smiles_list.reshape((-1, 1024, 64, 1))\n",
    "print(train_x.shape)"
   ]
  },
  {
   "cell_type": "code",
   "execution_count": 6,
   "id": "c9c0d71c",
   "metadata": {},
   "outputs": [],
   "source": [
    "input_shape = (1024, 64, 1)\n",
    "input_tensor = layers.Input(input_shape)\n",
    "\n",
    "conv1 = layers.Conv2D(1, (3,3), padding='same', activation='relu')(input_tensor)\n",
    "pooling1 = layers.MaxPool2D(name='imlatent_layer')(conv1)\n",
    "\n",
    "conv2 = layers.Conv2D(1, (3,3), padding='same', activation='relu')(pooling1)\n",
    "pooling2 = layers.MaxPool2D(name='imlatent_layer2')(conv2)\n",
    "\n",
    "conv3 = layers.Conv2D(1, (3,3), padding='same', activation='relu')(pooling2)\n",
    "pooling3 = layers.MaxPool2D(name='imlatent_layer3')(conv3)\n",
    "\n",
    "conv4 = layers.Conv2D(1, (3,3), padding='same', activation='relu')(pooling3)\n",
    "pooling4 = layers.MaxPool2D(name='imlatent_layer4')(conv4)\n",
    "\n",
    "flatten1 = layers.Flatten()(pooling4)\n",
    "dense1 = layers.Dense(128, activation='relu',name='latent_layer')(flatten1)\n",
    "\n",
    "latent_tensor = dense1\n",
    "\n",
    "dense2 = layers.Dense(64 * 4, activation='relu')(latent_tensor)\n",
    "reshaped = tf.reshape(dense2, [-1, 64, 4, 1])\n",
    "\n",
    "upsample1 = layers.UpSampling2D()(reshaped)\n",
    "deconv1 = layers.Conv2DTranspose(1, (3,3), padding='same', activation='sigmoid')(upsample1)\n",
    "\n",
    "upsample2 = layers.UpSampling2D()(deconv1)\n",
    "deconv2 = layers.Conv2DTranspose(1, (3,3), padding='same', activation='sigmoid')(upsample2)\n",
    "\n",
    "upsample3 = layers.UpSampling2D()(deconv2)\n",
    "deconv3 = layers.Conv2DTranspose(1, (3,3), padding='same', activation='sigmoid')(upsample3)\n",
    "\n",
    "upsample4 = layers.UpSampling2D()(deconv3)\n",
    "deconv4 = layers.Conv2DTranspose(1, (3,3), padding='same', activation='sigmoid')(upsample4)\n",
    "\n",
    "output_tensor = deconv4"
   ]
  },
  {
   "cell_type": "code",
   "execution_count": 7,
   "id": "b6ba079f",
   "metadata": {},
   "outputs": [],
   "source": [
    "ae = models.Model(input_tensor, output_tensor)\n",
    "ae.compile(optimizer = 'Adam', loss='mse', metrics=['accuracy'])"
   ]
  },
  {
   "cell_type": "code",
   "execution_count": 8,
   "id": "2b8a216d",
   "metadata": {},
   "outputs": [
    {
     "name": "stdout",
     "output_type": "stream",
     "text": [
      "Model: \"model\"\n",
      "_________________________________________________________________\n",
      "Layer (type)                 Output Shape              Param #   \n",
      "=================================================================\n",
      "input_1 (InputLayer)         [(None, 1024, 64, 1)]     0         \n",
      "_________________________________________________________________\n",
      "conv2d (Conv2D)              (None, 1024, 64, 1)       10        \n",
      "_________________________________________________________________\n",
      "imlatent_layer (MaxPooling2D (None, 512, 32, 1)        0         \n",
      "_________________________________________________________________\n",
      "conv2d_1 (Conv2D)            (None, 512, 32, 1)        10        \n",
      "_________________________________________________________________\n",
      "imlatent_layer2 (MaxPooling2 (None, 256, 16, 1)        0         \n",
      "_________________________________________________________________\n",
      "conv2d_2 (Conv2D)            (None, 256, 16, 1)        10        \n",
      "_________________________________________________________________\n",
      "imlatent_layer3 (MaxPooling2 (None, 128, 8, 1)         0         \n",
      "_________________________________________________________________\n",
      "conv2d_3 (Conv2D)            (None, 128, 8, 1)         10        \n",
      "_________________________________________________________________\n",
      "imlatent_layer4 (MaxPooling2 (None, 64, 4, 1)          0         \n",
      "_________________________________________________________________\n",
      "flatten (Flatten)            (None, 256)               0         \n",
      "_________________________________________________________________\n",
      "latent_layer (Dense)         (None, 128)               32896     \n",
      "_________________________________________________________________\n",
      "dense (Dense)                (None, 256)               33024     \n",
      "_________________________________________________________________\n",
      "tf_op_layer_Reshape (TensorF [(None, 64, 4, 1)]        0         \n",
      "_________________________________________________________________\n",
      "up_sampling2d (UpSampling2D) (None, 128, 8, 1)         0         \n",
      "_________________________________________________________________\n",
      "conv2d_transpose (Conv2DTran (None, 128, 8, 1)         10        \n",
      "_________________________________________________________________\n",
      "up_sampling2d_1 (UpSampling2 (None, 256, 16, 1)        0         \n",
      "_________________________________________________________________\n",
      "conv2d_transpose_1 (Conv2DTr (None, 256, 16, 1)        10        \n",
      "_________________________________________________________________\n",
      "up_sampling2d_2 (UpSampling2 (None, 512, 32, 1)        0         \n",
      "_________________________________________________________________\n",
      "conv2d_transpose_2 (Conv2DTr (None, 512, 32, 1)        10        \n",
      "_________________________________________________________________\n",
      "up_sampling2d_3 (UpSampling2 (None, 1024, 64, 1)       0         \n",
      "_________________________________________________________________\n",
      "conv2d_transpose_3 (Conv2DTr (None, 1024, 64, 1)       10        \n",
      "=================================================================\n",
      "Total params: 66,000\n",
      "Trainable params: 66,000\n",
      "Non-trainable params: 0\n",
      "_________________________________________________________________\n"
     ]
    }
   ],
   "source": [
    "ae.summary()"
   ]
  },
  {
   "cell_type": "code",
   "execution_count": 9,
   "id": "18cbb8ee",
   "metadata": {},
   "outputs": [
    {
     "name": "stdout",
     "output_type": "stream",
     "text": [
      "Train on 155 samples\n",
      "Epoch 1/100\n",
      "155/155 - 2s - loss: 0.1143 - accuracy: 0.9982\n",
      "Epoch 2/100\n",
      "155/155 - 0s - loss: 0.0786 - accuracy: 0.9989\n",
      "Epoch 3/100\n",
      "155/155 - 0s - loss: 0.0541 - accuracy: 0.9992\n",
      "Epoch 4/100\n",
      "155/155 - 0s - loss: 0.0389 - accuracy: 0.9992\n",
      "Epoch 5/100\n",
      "155/155 - 0s - loss: 0.0289 - accuracy: 0.9992\n",
      "Epoch 6/100\n",
      "155/155 - 0s - loss: 0.0222 - accuracy: 0.9992\n",
      "Epoch 7/100\n",
      "155/155 - 0s - loss: 0.0177 - accuracy: 0.9992\n",
      "Epoch 8/100\n",
      "155/155 - 0s - loss: 0.0144 - accuracy: 0.9992\n",
      "Epoch 9/100\n",
      "155/155 - 0s - loss: 0.0121 - accuracy: 0.9992\n",
      "Epoch 10/100\n",
      "155/155 - 0s - loss: 0.0103 - accuracy: 0.9992\n",
      "Epoch 11/100\n",
      "155/155 - 0s - loss: 0.0089 - accuracy: 0.9992\n",
      "Epoch 12/100\n",
      "155/155 - 0s - loss: 0.0078 - accuracy: 0.9992\n",
      "Epoch 13/100\n",
      "155/155 - 0s - loss: 0.0070 - accuracy: 0.9992\n",
      "Epoch 14/100\n",
      "155/155 - 0s - loss: 0.0062 - accuracy: 0.9992\n",
      "Epoch 15/100\n",
      "155/155 - 0s - loss: 0.0057 - accuracy: 0.9992\n",
      "Epoch 16/100\n",
      "155/155 - 0s - loss: 0.0052 - accuracy: 0.9992\n",
      "Epoch 17/100\n",
      "155/155 - 0s - loss: 0.0048 - accuracy: 0.9992\n",
      "Epoch 18/100\n",
      "155/155 - 0s - loss: 0.0044 - accuracy: 0.9992\n",
      "Epoch 19/100\n",
      "155/155 - 0s - loss: 0.0041 - accuracy: 0.9992\n",
      "Epoch 20/100\n",
      "155/155 - 0s - loss: 0.0038 - accuracy: 0.9992\n",
      "Epoch 21/100\n",
      "155/155 - 0s - loss: 0.0036 - accuracy: 0.9992\n",
      "Epoch 22/100\n",
      "155/155 - 0s - loss: 0.0034 - accuracy: 0.9992\n",
      "Epoch 23/100\n",
      "155/155 - 0s - loss: 0.0032 - accuracy: 0.9992\n",
      "Epoch 24/100\n",
      "155/155 - 0s - loss: 0.0030 - accuracy: 0.9992\n",
      "Epoch 25/100\n",
      "155/155 - 0s - loss: 0.0029 - accuracy: 0.9992\n",
      "Epoch 26/100\n",
      "155/155 - 0s - loss: 0.0028 - accuracy: 0.9992\n",
      "Epoch 27/100\n",
      "155/155 - 0s - loss: 0.0026 - accuracy: 0.9992\n",
      "Epoch 28/100\n",
      "155/155 - 0s - loss: 0.0025 - accuracy: 0.9992\n",
      "Epoch 29/100\n",
      "155/155 - 0s - loss: 0.0024 - accuracy: 0.9992\n",
      "Epoch 30/100\n",
      "155/155 - 0s - loss: 0.0023 - accuracy: 0.9992\n",
      "Epoch 31/100\n",
      "155/155 - 0s - loss: 0.0023 - accuracy: 0.9992\n",
      "Epoch 32/100\n",
      "155/155 - 0s - loss: 0.0022 - accuracy: 0.9992\n",
      "Epoch 33/100\n",
      "155/155 - 0s - loss: 0.0021 - accuracy: 0.9992\n",
      "Epoch 34/100\n",
      "155/155 - 0s - loss: 0.0021 - accuracy: 0.9992\n",
      "Epoch 35/100\n",
      "155/155 - 0s - loss: 0.0020 - accuracy: 0.9992\n",
      "Epoch 36/100\n",
      "155/155 - 0s - loss: 0.0019 - accuracy: 0.9992\n",
      "Epoch 37/100\n",
      "155/155 - 0s - loss: 0.0019 - accuracy: 0.9992\n",
      "Epoch 38/100\n",
      "155/155 - 0s - loss: 0.0018 - accuracy: 0.9992\n",
      "Epoch 39/100\n",
      "155/155 - 0s - loss: 0.0018 - accuracy: 0.9992\n",
      "Epoch 40/100\n",
      "155/155 - 0s - loss: 0.0018 - accuracy: 0.9992\n",
      "Epoch 41/100\n",
      "155/155 - 0s - loss: 0.0017 - accuracy: 0.9992\n",
      "Epoch 42/100\n",
      "155/155 - 0s - loss: 0.0017 - accuracy: 0.9992\n",
      "Epoch 43/100\n",
      "155/155 - 0s - loss: 0.0016 - accuracy: 0.9992\n",
      "Epoch 44/100\n",
      "155/155 - 0s - loss: 0.0016 - accuracy: 0.9992\n",
      "Epoch 45/100\n",
      "155/155 - 0s - loss: 0.0016 - accuracy: 0.9992\n",
      "Epoch 46/100\n",
      "155/155 - 0s - loss: 0.0016 - accuracy: 0.9992\n",
      "Epoch 47/100\n",
      "155/155 - 0s - loss: 0.0015 - accuracy: 0.9992\n",
      "Epoch 48/100\n",
      "155/155 - 0s - loss: 0.0015 - accuracy: 0.9992\n",
      "Epoch 49/100\n",
      "155/155 - 0s - loss: 0.0015 - accuracy: 0.9992\n",
      "Epoch 50/100\n",
      "155/155 - 0s - loss: 0.0015 - accuracy: 0.9992\n",
      "Epoch 51/100\n",
      "155/155 - 0s - loss: 0.0014 - accuracy: 0.9992\n",
      "Epoch 52/100\n",
      "155/155 - 0s - loss: 0.0014 - accuracy: 0.9992\n",
      "Epoch 53/100\n",
      "155/155 - 0s - loss: 0.0014 - accuracy: 0.9992\n",
      "Epoch 54/100\n",
      "155/155 - 0s - loss: 0.0014 - accuracy: 0.9992\n",
      "Epoch 55/100\n",
      "155/155 - 0s - loss: 0.0014 - accuracy: 0.9992\n",
      "Epoch 56/100\n",
      "155/155 - 0s - loss: 0.0013 - accuracy: 0.9992\n",
      "Epoch 57/100\n",
      "155/155 - 0s - loss: 0.0013 - accuracy: 0.9992\n",
      "Epoch 58/100\n",
      "155/155 - 0s - loss: 0.0013 - accuracy: 0.9992\n",
      "Epoch 59/100\n",
      "155/155 - 0s - loss: 0.0013 - accuracy: 0.9992\n",
      "Epoch 60/100\n",
      "155/155 - 0s - loss: 0.0013 - accuracy: 0.9992\n",
      "Epoch 61/100\n",
      "155/155 - 0s - loss: 0.0013 - accuracy: 0.9992\n",
      "Epoch 62/100\n",
      "155/155 - 0s - loss: 0.0012 - accuracy: 0.9992\n",
      "Epoch 63/100\n",
      "155/155 - 0s - loss: 0.0012 - accuracy: 0.9992\n",
      "Epoch 64/100\n",
      "155/155 - 0s - loss: 0.0012 - accuracy: 0.9992\n",
      "Epoch 65/100\n",
      "155/155 - 0s - loss: 0.0012 - accuracy: 0.9992\n",
      "Epoch 66/100\n",
      "155/155 - 0s - loss: 0.0012 - accuracy: 0.9992\n",
      "Epoch 67/100\n",
      "155/155 - 0s - loss: 0.0012 - accuracy: 0.9992\n",
      "Epoch 68/100\n",
      "155/155 - 0s - loss: 0.0012 - accuracy: 0.9992\n",
      "Epoch 69/100\n",
      "155/155 - 0s - loss: 0.0012 - accuracy: 0.9992\n",
      "Epoch 70/100\n",
      "155/155 - 0s - loss: 0.0012 - accuracy: 0.9992\n",
      "Epoch 71/100\n",
      "155/155 - 0s - loss: 0.0012 - accuracy: 0.9992\n",
      "Epoch 72/100\n",
      "155/155 - 0s - loss: 0.0011 - accuracy: 0.9992\n",
      "Epoch 73/100\n",
      "155/155 - 0s - loss: 0.0011 - accuracy: 0.9992\n",
      "Epoch 74/100\n",
      "155/155 - 0s - loss: 0.0011 - accuracy: 0.9992\n",
      "Epoch 75/100\n",
      "155/155 - 0s - loss: 0.0011 - accuracy: 0.9992\n",
      "Epoch 76/100\n",
      "155/155 - 0s - loss: 0.0011 - accuracy: 0.9992\n",
      "Epoch 77/100\n",
      "155/155 - 0s - loss: 0.0011 - accuracy: 0.9992\n",
      "Epoch 78/100\n",
      "155/155 - 0s - loss: 0.0011 - accuracy: 0.9992\n",
      "Epoch 79/100\n",
      "155/155 - 0s - loss: 0.0011 - accuracy: 0.9992\n",
      "Epoch 80/100\n",
      "155/155 - 0s - loss: 0.0011 - accuracy: 0.9992\n",
      "Epoch 81/100\n",
      "155/155 - 0s - loss: 0.0011 - accuracy: 0.9992\n",
      "Epoch 82/100\n",
      "155/155 - 0s - loss: 0.0011 - accuracy: 0.9992\n",
      "Epoch 83/100\n",
      "155/155 - 0s - loss: 0.0011 - accuracy: 0.9992\n",
      "Epoch 84/100\n",
      "155/155 - 0s - loss: 0.0011 - accuracy: 0.9992\n",
      "Epoch 85/100\n",
      "155/155 - 0s - loss: 0.0011 - accuracy: 0.9992\n",
      "Epoch 86/100\n",
      "155/155 - 0s - loss: 0.0010 - accuracy: 0.9992\n",
      "Epoch 87/100\n",
      "155/155 - 0s - loss: 0.0010 - accuracy: 0.9992\n",
      "Epoch 88/100\n",
      "155/155 - 0s - loss: 0.0010 - accuracy: 0.9992\n",
      "Epoch 89/100\n",
      "155/155 - 0s - loss: 0.0010 - accuracy: 0.9992\n",
      "Epoch 90/100\n",
      "155/155 - 0s - loss: 0.0010 - accuracy: 0.9992\n",
      "Epoch 91/100\n",
      "155/155 - 0s - loss: 0.0010 - accuracy: 0.9992\n",
      "Epoch 92/100\n",
      "155/155 - 0s - loss: 0.0010 - accuracy: 0.9992\n",
      "Epoch 93/100\n",
      "155/155 - 0s - loss: 0.0010 - accuracy: 0.9992\n",
      "Epoch 94/100\n",
      "155/155 - 0s - loss: 0.0010 - accuracy: 0.9992\n",
      "Epoch 95/100\n",
      "155/155 - 0s - loss: 0.0010 - accuracy: 0.9992\n",
      "Epoch 96/100\n",
      "155/155 - 0s - loss: 0.0010 - accuracy: 0.9992\n",
      "Epoch 97/100\n",
      "155/155 - 0s - loss: 9.9753e-04 - accuracy: 0.9992\n",
      "Epoch 98/100\n",
      "155/155 - 0s - loss: 9.9370e-04 - accuracy: 0.9992\n",
      "Epoch 99/100\n",
      "155/155 - 0s - loss: 9.8999e-04 - accuracy: 0.9992\n",
      "Epoch 100/100\n",
      "155/155 - 0s - loss: 9.8638e-04 - accuracy: 0.9992\n"
     ]
    },
    {
     "data": {
      "text/plain": [
       "<tensorflow.python.keras.callbacks.History at 0x1f8f9a20048>"
      ]
     },
     "execution_count": 9,
     "metadata": {},
     "output_type": "execute_result"
    }
   ],
   "source": [
    "epoch=100\n",
    "batch_size=5\n",
    "\n",
    "ae.fit(train_x, train_x,\n",
    "      batch_size = batch_size,\n",
    "      epochs=epoch,\n",
    "      verbose=2)"
   ]
  },
  {
   "cell_type": "code",
   "execution_count": 10,
   "id": "68879ecc",
   "metadata": {},
   "outputs": [
    {
     "name": "stdout",
     "output_type": "stream",
     "text": [
      "[[0. 0. 0. ... 0. 0. 0.]\n",
      " [0. 0. 0. ... 0. 0. 0.]\n",
      " [0. 0. 0. ... 0. 0. 0.]\n",
      " ...\n",
      " [0. 0. 0. ... 0. 0. 0.]\n",
      " [0. 0. 0. ... 0. 0. 0.]\n",
      " [0. 0. 0. ... 0. 0. 0.]]\n"
     ]
    }
   ],
   "source": [
    "print(train_x[19].reshape(1024, 64))"
   ]
  },
  {
   "cell_type": "code",
   "execution_count": 11,
   "id": "26b419c6",
   "metadata": {},
   "outputs": [
    {
     "name": "stdout",
     "output_type": "stream",
     "text": [
      "[[0.10395217 0.0367756  0.03544835 ... 0.03678493 0.04039227 0.09129008]\n",
      " [0.04550865 0.01086783 0.01051379 ... 0.01150884 0.01238969 0.06541866]\n",
      " [0.04485118 0.01039741 0.01006857 ... 0.01103273 0.01181365 0.06200372]\n",
      " ...\n",
      " [0.04730641 0.01111997 0.01062462 ... 0.01163894 0.01274571 0.06732802]\n",
      " [0.04800796 0.01162309 0.01107088 ... 0.01215365 0.01338698 0.07118256]\n",
      " [0.19461042 0.09298883 0.09219861 ... 0.09751165 0.09917062 0.21479225]]\n"
     ]
    }
   ],
   "source": [
    "decoded_smiles = ae.predict(train_x[19].reshape(1, 1024 , 64, 1))\n",
    "print(decoded_smiles.reshape(1024, 64))"
   ]
  },
  {
   "cell_type": "code",
   "execution_count": 12,
   "id": "6df80240",
   "metadata": {},
   "outputs": [],
   "source": [
    "feature_layer_model = models.Model(inputs=ae.input,\n",
    "                                       outputs=ae.get_layer('latent_layer').output)\n",
    "feature_output = feature_layer_model.predict(train_x[0].reshape(1, 1024, 64, 1))"
   ]
  },
  {
   "cell_type": "code",
   "execution_count": 13,
   "id": "fd7db58f",
   "metadata": {},
   "outputs": [
    {
     "name": "stdout",
     "output_type": "stream",
     "text": [
      "[[1.8768187  1.6279799  0.         0.         0.         0.\n",
      "  1.1966372  1.3011992  0.         0.         1.5726727  1.2234371\n",
      "  0.         1.8687235  0.         0.26868668 1.4559013  1.3739319\n",
      "  1.5518051  0.         0.         1.771576   1.2109431  0.\n",
      "  2.006953   0.         2.039132   1.8487719  0.         1.0133162\n",
      "  0.         0.         0.         0.         0.         1.4228611\n",
      "  1.6946957  1.0815735  1.3320941  1.3091203  0.         0.\n",
      "  1.7096692  0.         0.41279632 1.7198887  1.7899405  0.\n",
      "  1.7230891  1.3594626  0.         1.5856155  1.3514068  1.6141181\n",
      "  0.         1.5273019  1.667758   1.04409    0.         0.8885827\n",
      "  0.04330643 0.         1.6298231  0.         1.5751554  1.78937\n",
      "  0.         1.5261304  0.         1.6853427  1.6776731  0.07835371\n",
      "  1.0538318  1.8390489  1.7020702  1.1593007  0.95902085 1.5746633\n",
      "  0.         1.5979958  1.3469589  0.         1.1969461  1.1993632\n",
      "  1.7820381  0.9564518  1.7683437  0.         1.6722438  1.8454072\n",
      "  0.57355523 0.9465299  1.6210822  0.         0.         1.4526241\n",
      "  1.626504   0.01799352 1.9569651  0.         1.3454428  1.3325839\n",
      "  1.5655599  0.         1.4127488  1.3259237  0.         0.\n",
      "  1.4066274  0.         1.3110701  1.5828816  0.         1.8515041\n",
      "  1.7630093  1.5175841  1.4514307  0.         0.         1.098906\n",
      "  1.7026427  1.7152511  1.4306489  0.         1.3680435  0.\n",
      "  1.6926122  0.        ]]\n"
     ]
    }
   ],
   "source": [
    "print(feature_output)"
   ]
  },
  {
   "cell_type": "code",
   "execution_count": 14,
   "id": "9850ddfb",
   "metadata": {},
   "outputs": [
    {
     "name": "stdout",
     "output_type": "stream",
     "text": [
      "[[1.988765   1.6177822  0.         0.         0.         0.\n",
      "  1.2413208  1.3086995  0.         0.         1.6321636  1.3439754\n",
      "  0.         1.9236605  0.         0.2873781  1.512734   1.4536446\n",
      "  1.5629421  0.         0.         1.830711   1.1838508  0.\n",
      "  2.1294224  0.         2.1021967  1.9117955  0.         1.0978346\n",
      "  0.         0.         0.         0.         0.         1.4633055\n",
      "  1.7524985  1.1352438  1.3715003  1.4306504  0.         0.\n",
      "  1.6903331  0.         0.413427   1.8000267  1.8571514  0.\n",
      "  1.7736176  1.3652292  0.         1.5768154  1.3600342  1.6679938\n",
      "  0.         1.4318469  1.7110913  1.0179607  0.         1.0019001\n",
      "  0.04684038 0.         1.7469618  0.         1.5985178  1.8635166\n",
      "  0.         1.5640324  0.         1.722074   1.758937   0.12067952\n",
      "  1.0569512  1.8594985  1.7612034  1.1793566  0.9308579  1.6308728\n",
      "  0.         1.6036444  1.3567336  0.         1.2792561  1.3393447\n",
      "  1.8847947  0.97279084 1.837759   0.         1.7195375  1.9388602\n",
      "  0.6242478  1.0366404  1.6723276  0.         0.         1.4933228\n",
      "  1.5714447  0.         2.0060048  0.         1.338281   1.450062\n",
      "  1.6272274  0.         1.4845624  1.3875148  0.         0.\n",
      "  1.382462   0.         1.3363379  1.6488835  0.         1.8671837\n",
      "  1.8528208  1.6010921  1.4681789  0.         0.         1.1405421\n",
      "  1.7810087  1.7590853  1.4358835  0.02153264 1.4381663  0.\n",
      "  1.7622321  0.        ]]\n"
     ]
    }
   ],
   "source": [
    "feature_output = feature_layer_model.predict(train_x[19].reshape(1, 1024, 64, 1))\n",
    "print(feature_output)"
   ]
  },
  {
   "cell_type": "code",
   "execution_count": null,
   "id": "6f2bb1cd",
   "metadata": {},
   "outputs": [],
   "source": []
  }
 ],
 "metadata": {
  "kernelspec": {
   "display_name": "Python 3 (ipykernel)",
   "language": "python",
   "name": "python3"
  },
  "language_info": {
   "codemirror_mode": {
    "name": "ipython",
    "version": 3
   },
   "file_extension": ".py",
   "mimetype": "text/x-python",
   "name": "python",
   "nbconvert_exporter": "python",
   "pygments_lexer": "ipython3",
   "version": "3.7.13"
  }
 },
 "nbformat": 4,
 "nbformat_minor": 5
}
