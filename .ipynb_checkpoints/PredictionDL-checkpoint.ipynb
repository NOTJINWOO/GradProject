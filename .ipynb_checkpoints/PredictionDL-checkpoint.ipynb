{
 "cells": [
  {
   "cell_type": "code",
   "execution_count": 1,
   "id": "642a13a9",
   "metadata": {},
   "outputs": [],
   "source": [
    "import numpy as np\n",
    "import pandas as pd\n",
    "import matplotlib.pyplot as plt\n",
    "import csv\n",
    "%matplotlib inline\n",
    "\n",
    "from os.path import join\n",
    "\n",
    "import tensorflow as tf\n",
    "from tensorflow.keras import layers, models, optimizers\n",
    "from tensorflow.keras.utils import to_categorical"
   ]
  },
  {
   "cell_type": "code",
   "execution_count": 2,
   "id": "51aa5288",
   "metadata": {},
   "outputs": [],
   "source": [
    "rows = []\n",
    "drugFeatures = {}\n",
    "\n",
    "with open('drugFeature.csv', 'r') as csvfile: \n",
    "    reader = csv.reader(csvfile, skipinitialspace=True)\n",
    "    next(reader)\n",
    "    for row in reader:\n",
    "        rows.append(row)\n",
    "        \n",
    "for i in range(0, len(rows)):\n",
    "    drugFeatures[rows[i][0]] = rows[i][1:]"
   ]
  },
  {
   "cell_type": "code",
   "execution_count": 3,
   "id": "0e712b04",
   "metadata": {},
   "outputs": [],
   "source": [
    "rows = []\n",
    "miRNAFeatures = {}\n",
    "\n",
    "with open('miRNAFeature.csv', 'r') as csvfile: \n",
    "    reader = csv.reader(csvfile, skipinitialspace=True)\n",
    "    next(reader)\n",
    "    for row in reader:\n",
    "        rows.append(row)\n",
    "        \n",
    "for i in range(0, len(rows)):\n",
    "    miRNAFeatures[rows[i][0]] = rows[i][1:]\n"
   ]
  },
  {
   "cell_type": "code",
   "execution_count": 4,
   "id": "d48d3028",
   "metadata": {},
   "outputs": [
    {
     "name": "stdout",
     "output_type": "stream",
     "text": [
      "(6993, 128)\n",
      "(6993, 128)\n",
      "(6993,)\n"
     ]
    }
   ],
   "source": [
    "miRNA_train = []\n",
    "drug_train = []\n",
    "correlation_train = []\n",
    "\n",
    "with open('correlationData.csv', 'r') as csvfile: \n",
    "    reader = csv.reader(csvfile, skipinitialspace=True)\n",
    "    next(reader)\n",
    "    for miRBase, cid, correlation in reader:\n",
    "        drug_train.append(drugFeatures[str(cid)])\n",
    "        correlation_train.append(correlation)\n",
    "        miRNA_train.append(miRNAFeatures[str(miRBase)])\n",
    "\n",
    "#for i in range(0, len(miRNA_train)):\n",
    "  #  miRNA_train[i] = miRNA_train[i] + drug_train[i]\n",
    "\n",
    "#print(miRNA_train[0])\n",
    "    \n",
    "#train_x = np.array(miRNA_train).astype(float)\n",
    "#print(train_x.shape)\n",
    "\n",
    "drug_train = np.array(drug_train).astype(np.float32)\n",
    "print(drug_train.shape)\n",
    "\n",
    "miRNA_train = np.array(miRNA_train).astype(np.float32)\n",
    "print(miRNA_train.shape)\n",
    "\n",
    "#correlation_train = to_categorical(correlation_train)\n",
    "correlation_train = np.array(correlation_train).astype(int)\n",
    "print(correlation_train.shape)"
   ]
  },
  {
   "cell_type": "code",
   "execution_count": 5,
   "id": "1d4f5164",
   "metadata": {},
   "outputs": [
    {
     "name": "stdout",
     "output_type": "stream",
     "text": [
      "[0.         1.1678784  0.80110854 0.36714268 0.         0.640995\n",
      " 0.         0.24220982 0.         0.         0.39026725 0.16112137\n",
      " 0.9944409  0.         0.         0.29475656 1.1155647  0.38025928\n",
      " 0.         1.0711297  0.7658136  1.0376648  0.16947185 0.6961138\n",
      " 0.42930424 1.1351733  0.         0.7261601  1.4695327  0.\n",
      " 0.38475117 0.2522929  1.4178569  0.67905563 1.2654397  0.\n",
      " 0.53979    0.7011106  0.         0.08322429 0.6676927  1.0721617\n",
      " 1.3056295  0.83898646 0.5962862  0.08329256 0.7491788  1.1286315\n",
      " 1.4878961  0.         0.8486786  0.732323   0.81091565 1.3387327\n",
      " 1.3216766  1.5067047  0.33290002 0.         0.32317445 0.6860323\n",
      " 0.41309845 0.37720507 0.3178873  0.69950825 0.         0.\n",
      " 0.77635896 0.92476046 0.68742806 0.         0.85936135 0.\n",
      " 1.1558073  0.16101675 0.         0.26994047 0.22144234 0.74781567\n",
      " 0.6479784  0.         0.61656487 0.5485257  0.         0.8486363\n",
      " 0.6875442  2.2301002  0.         0.86042196 0.8886398  0.7850777\n",
      " 0.         1.5999737  0.3223623  0.         1.1513531  0.\n",
      " 0.         1.2883548  0.8055994  0.60842925 1.1970658  0.58101565\n",
      " 1.1189903  0.89342976 1.8237784  1.184488   0.5931928  0.27407795\n",
      " 1.8505642  0.         0.29824504 0.         0.17390142 0.8875098\n",
      " 0.9290885  0.5202357  0.22727665 0.853172   1.1634598  0.7412174\n",
      " 1.1539606  0.32968262 0.65719855 0.1735583  0.         0.01696626\n",
      " 1.567593   1.052397  ]\n",
      "[ 0.        0.        0.       22.322039  0.        0.        0.\n",
      "  0.        0.        0.       12.627443  0.        0.        0.\n",
      "  0.        0.        0.        0.        0.        0.        0.\n",
      "  0.        0.        0.        0.        9.569009  0.        0.\n",
      "  0.        0.        0.       10.335673 12.443144  0.        0.\n",
      "  0.        0.        0.        0.        0.        0.        0.\n",
      "  0.        0.        0.        0.        0.        0.        0.\n",
      "  0.        0.        0.        0.        0.        0.        0.\n",
      "  0.        0.        0.        0.        0.        0.       13.349154\n",
      "  0.        0.        0.        0.        0.        0.        0.\n",
      "  0.        0.        0.       20.727758  0.        0.        0.\n",
      "  0.        0.        0.        0.        0.        0.        0.\n",
      "  0.        0.        0.        0.        0.        0.        0.\n",
      "  0.        0.       22.25825   0.        0.        0.        0.\n",
      "  0.        0.        0.        0.       15.195945  0.       22.404034\n",
      "  0.        0.        0.        0.        0.        0.        0.\n",
      "  0.        0.        0.        0.        0.        0.        0.\n",
      "  0.        0.        0.        0.        0.        0.        0.\n",
      "  0.        0.      ]\n"
     ]
    }
   ],
   "source": [
    "print(miRNA_train[1])\n",
    "print(drug_train[1])"
   ]
  },
  {
   "cell_type": "code",
   "execution_count": 6,
   "id": "7475fc63",
   "metadata": {},
   "outputs": [],
   "source": [
    "miRNAFeatureInput = layers.Input(shape=(128,))\n",
    "drugFeatureInput = layers.Input(shape=(128,))\n",
    "#Input_layer = layers.Input(shape=(256,))\n",
    "Input_layer = layers.Concatenate()([miRNAFeatureInput, drugFeatureInput])\n",
    "layer1 = layers.Dense(units=128, activation = 'relu')(Input_layer)\n",
    "layer2 = layers.Dense(units=64, activation = 'relu')(layer1)\n",
    "layer3 = layers.Dense(units=32,  activation = 'relu')(layer2)\n",
    "layer4 = layers.Dense(units=16, activation = 'relu')(layer3)\n",
    "#layer5 = layers.Dense(units=2000, activation = 'relu')(layer4)\n",
    "#layer6 = layers.Dense(units=2000, activation = 'relu')(layer5)\n",
    "output = layers.Dense(units=1, activation = 'sigmoid')(layer4)"
   ]
  },
  {
   "cell_type": "code",
   "execution_count": 7,
   "id": "b3cb4818",
   "metadata": {},
   "outputs": [],
   "source": [
    "#predict_model = models.Model(Input_layer, output)\n",
    "predict_model = models.Model([miRNAFeatureInput, drugFeatureInput], output)"
   ]
  },
  {
   "cell_type": "code",
   "execution_count": 8,
   "id": "85016ed6",
   "metadata": {},
   "outputs": [],
   "source": [
    "predict_model.compile(optimizer=tf.keras.optimizers.Adam(0.01), loss=\"binary_crossentropy\", metrics=['binary_accuracy'])"
   ]
  },
  {
   "cell_type": "code",
   "execution_count": 9,
   "id": "94fc1c95",
   "metadata": {},
   "outputs": [
    {
     "name": "stdout",
     "output_type": "stream",
     "text": [
      "Model: \"model\"\n",
      "__________________________________________________________________________________________________\n",
      "Layer (type)                    Output Shape         Param #     Connected to                     \n",
      "==================================================================================================\n",
      "input_1 (InputLayer)            [(None, 128)]        0                                            \n",
      "__________________________________________________________________________________________________\n",
      "input_2 (InputLayer)            [(None, 128)]        0                                            \n",
      "__________________________________________________________________________________________________\n",
      "concatenate (Concatenate)       (None, 256)          0           input_1[0][0]                    \n",
      "                                                                 input_2[0][0]                    \n",
      "__________________________________________________________________________________________________\n",
      "dense (Dense)                   (None, 128)          32896       concatenate[0][0]                \n",
      "__________________________________________________________________________________________________\n",
      "dense_1 (Dense)                 (None, 64)           8256        dense[0][0]                      \n",
      "__________________________________________________________________________________________________\n",
      "dense_2 (Dense)                 (None, 32)           2080        dense_1[0][0]                    \n",
      "__________________________________________________________________________________________________\n",
      "dense_3 (Dense)                 (None, 16)           528         dense_2[0][0]                    \n",
      "__________________________________________________________________________________________________\n",
      "dense_4 (Dense)                 (None, 1)            17          dense_3[0][0]                    \n",
      "==================================================================================================\n",
      "Total params: 43,777\n",
      "Trainable params: 43,777\n",
      "Non-trainable params: 0\n",
      "__________________________________________________________________________________________________\n"
     ]
    }
   ],
   "source": [
    "predict_model.summary()"
   ]
  },
  {
   "cell_type": "code",
   "execution_count": 10,
   "id": "baca144c",
   "metadata": {
    "scrolled": true
   },
   "outputs": [
    {
     "name": "stdout",
     "output_type": "stream",
     "text": [
      "Train on 4685 samples, validate on 2308 samples\n",
      "Epoch 1/100\n",
      "4685/4685 - 1s - loss: 0.9657 - binary_accuracy: 0.6493 - val_loss: 1.8023 - val_binary_accuracy: 0.0000e+00\n",
      "Epoch 2/100\n",
      "4685/4685 - 0s - loss: 0.5745 - binary_accuracy: 0.7535 - val_loss: 1.2737 - val_binary_accuracy: 0.0000e+00\n",
      "Epoch 3/100\n",
      "4685/4685 - 0s - loss: 0.5610 - binary_accuracy: 0.7535 - val_loss: 1.4320 - val_binary_accuracy: 0.0000e+00\n",
      "Epoch 4/100\n",
      "4685/4685 - 0s - loss: 0.5598 - binary_accuracy: 0.7535 - val_loss: 1.2066 - val_binary_accuracy: 0.0000e+00\n",
      "Epoch 5/100\n",
      "4685/4685 - 0s - loss: 0.5617 - binary_accuracy: 0.7535 - val_loss: 1.5847 - val_binary_accuracy: 0.0000e+00\n",
      "Epoch 6/100\n",
      "4685/4685 - 0s - loss: 0.5661 - binary_accuracy: 0.7535 - val_loss: 1.5370 - val_binary_accuracy: 0.0000e+00\n",
      "Epoch 7/100\n",
      "4685/4685 - 0s - loss: 0.5641 - binary_accuracy: 0.7535 - val_loss: 1.8768 - val_binary_accuracy: 0.0000e+00\n",
      "Epoch 8/100\n",
      "4685/4685 - 0s - loss: 0.5720 - binary_accuracy: 0.7535 - val_loss: 1.5441 - val_binary_accuracy: 0.0000e+00\n",
      "Epoch 9/100\n",
      "4685/4685 - 0s - loss: 0.5612 - binary_accuracy: 0.7535 - val_loss: 1.6616 - val_binary_accuracy: 0.0000e+00\n",
      "Epoch 10/100\n",
      "4685/4685 - 0s - loss: 0.5681 - binary_accuracy: 0.7535 - val_loss: 1.4223 - val_binary_accuracy: 0.0000e+00\n",
      "Epoch 11/100\n",
      "4685/4685 - 0s - loss: 0.5621 - binary_accuracy: 0.7535 - val_loss: 1.1766 - val_binary_accuracy: 0.0000e+00\n",
      "Epoch 12/100\n",
      "4685/4685 - 0s - loss: 0.5654 - binary_accuracy: 0.7535 - val_loss: 1.5034 - val_binary_accuracy: 0.0000e+00\n",
      "Epoch 13/100\n",
      "4685/4685 - 0s - loss: 0.5600 - binary_accuracy: 0.7535 - val_loss: 1.3953 - val_binary_accuracy: 0.0000e+00\n",
      "Epoch 14/100\n",
      "4685/4685 - 0s - loss: 0.5622 - binary_accuracy: 0.7535 - val_loss: 1.3200 - val_binary_accuracy: 0.0000e+00\n",
      "Epoch 15/100\n",
      "4685/4685 - 0s - loss: 0.5594 - binary_accuracy: 0.7535 - val_loss: 1.4372 - val_binary_accuracy: 0.0000e+00\n",
      "Epoch 16/100\n",
      "4685/4685 - 0s - loss: 0.5587 - binary_accuracy: 0.7535 - val_loss: 1.3699 - val_binary_accuracy: 0.0000e+00\n",
      "Epoch 17/100\n",
      "4685/4685 - 0s - loss: 0.5591 - binary_accuracy: 0.7535 - val_loss: 1.4975 - val_binary_accuracy: 0.0000e+00\n",
      "Epoch 18/100\n",
      "4685/4685 - 0s - loss: 0.5606 - binary_accuracy: 0.7535 - val_loss: 1.3270 - val_binary_accuracy: 0.0000e+00\n",
      "Epoch 19/100\n",
      "4685/4685 - 0s - loss: 0.5609 - binary_accuracy: 0.7535 - val_loss: 1.4692 - val_binary_accuracy: 0.0000e+00\n",
      "Epoch 20/100\n",
      "4685/4685 - 0s - loss: 0.5593 - binary_accuracy: 0.7535 - val_loss: 1.3704 - val_binary_accuracy: 0.0000e+00\n",
      "Epoch 21/100\n",
      "4685/4685 - 0s - loss: 0.5586 - binary_accuracy: 0.7535 - val_loss: 1.4237 - val_binary_accuracy: 0.0000e+00\n",
      "Epoch 22/100\n",
      "4685/4685 - 0s - loss: 0.5586 - binary_accuracy: 0.7535 - val_loss: 1.3697 - val_binary_accuracy: 0.0000e+00\n",
      "Epoch 23/100\n",
      "4685/4685 - 0s - loss: 0.5582 - binary_accuracy: 0.7535 - val_loss: 1.4377 - val_binary_accuracy: 0.0000e+00\n",
      "Epoch 24/100\n",
      "4685/4685 - 0s - loss: 0.5589 - binary_accuracy: 0.7535 - val_loss: 1.3759 - val_binary_accuracy: 0.0000e+00\n",
      "Epoch 25/100\n",
      "4685/4685 - 0s - loss: 0.5587 - binary_accuracy: 0.7535 - val_loss: 1.3908 - val_binary_accuracy: 0.0000e+00\n",
      "Epoch 26/100\n",
      "4685/4685 - 0s - loss: 0.5597 - binary_accuracy: 0.7535 - val_loss: 1.6690 - val_binary_accuracy: 0.0000e+00\n",
      "Epoch 27/100\n",
      "4685/4685 - 0s - loss: 0.5617 - binary_accuracy: 0.7535 - val_loss: 1.5745 - val_binary_accuracy: 0.0000e+00\n",
      "Epoch 28/100\n",
      "4685/4685 - 0s - loss: 0.5621 - binary_accuracy: 0.7535 - val_loss: 1.3256 - val_binary_accuracy: 0.0000e+00\n",
      "Epoch 29/100\n",
      "4685/4685 - 0s - loss: 0.5590 - binary_accuracy: 0.7535 - val_loss: 1.3668 - val_binary_accuracy: 0.0000e+00\n",
      "Epoch 30/100\n",
      "4685/4685 - 0s - loss: 0.5585 - binary_accuracy: 0.7535 - val_loss: 1.3255 - val_binary_accuracy: 0.0000e+00\n",
      "Epoch 31/100\n",
      "4685/4685 - 0s - loss: 0.5579 - binary_accuracy: 0.7535 - val_loss: 1.5956 - val_binary_accuracy: 0.0000e+00\n",
      "Epoch 32/100\n",
      "4685/4685 - 0s - loss: 0.5609 - binary_accuracy: 0.7535 - val_loss: 1.5280 - val_binary_accuracy: 0.0000e+00\n",
      "Epoch 33/100\n",
      "4685/4685 - 0s - loss: 0.5609 - binary_accuracy: 0.7535 - val_loss: 1.5392 - val_binary_accuracy: 0.0000e+00\n",
      "Epoch 34/100\n",
      "4685/4685 - 0s - loss: 0.5603 - binary_accuracy: 0.7535 - val_loss: 1.3931 - val_binary_accuracy: 0.0000e+00\n",
      "Epoch 35/100\n",
      "4685/4685 - 0s - loss: 0.5604 - binary_accuracy: 0.7535 - val_loss: 1.3088 - val_binary_accuracy: 0.0000e+00\n",
      "Epoch 36/100\n",
      "4685/4685 - 0s - loss: 0.5594 - binary_accuracy: 0.7535 - val_loss: 1.3004 - val_binary_accuracy: 0.0000e+00\n",
      "Epoch 37/100\n",
      "4685/4685 - 0s - loss: 0.5615 - binary_accuracy: 0.7535 - val_loss: 1.4521 - val_binary_accuracy: 0.0000e+00\n",
      "Epoch 38/100\n",
      "4685/4685 - 0s - loss: 0.5593 - binary_accuracy: 0.7535 - val_loss: 1.5082 - val_binary_accuracy: 0.0000e+00\n",
      "Epoch 39/100\n",
      "4685/4685 - 0s - loss: 0.5594 - binary_accuracy: 0.7535 - val_loss: 1.3127 - val_binary_accuracy: 0.0000e+00\n",
      "Epoch 40/100\n",
      "4685/4685 - 0s - loss: 0.5585 - binary_accuracy: 0.7535 - val_loss: 1.5305 - val_binary_accuracy: 0.0000e+00\n",
      "Epoch 41/100\n",
      "4685/4685 - 0s - loss: 0.5584 - binary_accuracy: 0.7535 - val_loss: 1.3275 - val_binary_accuracy: 0.0000e+00\n",
      "Epoch 42/100\n",
      "4685/4685 - 0s - loss: 0.5602 - binary_accuracy: 0.7535 - val_loss: 1.3637 - val_binary_accuracy: 0.0000e+00\n",
      "Epoch 43/100\n",
      "4685/4685 - 0s - loss: 0.5610 - binary_accuracy: 0.7535 - val_loss: 1.1968 - val_binary_accuracy: 0.0000e+00\n",
      "Epoch 44/100\n",
      "4685/4685 - 0s - loss: 0.5674 - binary_accuracy: 0.7535 - val_loss: 1.5824 - val_binary_accuracy: 0.0000e+00\n",
      "Epoch 45/100\n",
      "4685/4685 - 0s - loss: 0.5621 - binary_accuracy: 0.7535 - val_loss: 1.3748 - val_binary_accuracy: 0.0000e+00\n",
      "Epoch 46/100\n",
      "4685/4685 - 0s - loss: 0.5578 - binary_accuracy: 0.7535 - val_loss: 1.5182 - val_binary_accuracy: 0.0000e+00\n",
      "Epoch 47/100\n",
      "4685/4685 - 0s - loss: 0.5583 - binary_accuracy: 0.7535 - val_loss: 1.2983 - val_binary_accuracy: 0.0000e+00\n",
      "Epoch 48/100\n",
      "4685/4685 - 0s - loss: 0.5594 - binary_accuracy: 0.7535 - val_loss: 1.5887 - val_binary_accuracy: 0.0000e+00\n",
      "Epoch 49/100\n",
      "4685/4685 - 0s - loss: 0.5600 - binary_accuracy: 0.7535 - val_loss: 1.2700 - val_binary_accuracy: 0.0000e+00\n",
      "Epoch 50/100\n",
      "4685/4685 - 0s - loss: 0.5590 - binary_accuracy: 0.7535 - val_loss: 1.4883 - val_binary_accuracy: 0.0000e+00\n",
      "Epoch 51/100\n",
      "4685/4685 - 0s - loss: 0.5587 - binary_accuracy: 0.7535 - val_loss: 1.4010 - val_binary_accuracy: 0.0000e+00\n",
      "Epoch 52/100\n",
      "4685/4685 - 0s - loss: 0.5579 - binary_accuracy: 0.7535 - val_loss: 1.3972 - val_binary_accuracy: 0.0000e+00\n",
      "Epoch 53/100\n",
      "4685/4685 - 0s - loss: 0.5579 - binary_accuracy: 0.7535 - val_loss: 1.4569 - val_binary_accuracy: 0.0000e+00\n",
      "Epoch 54/100\n",
      "4685/4685 - 0s - loss: 0.5606 - binary_accuracy: 0.7535 - val_loss: 1.3111 - val_binary_accuracy: 0.0000e+00\n",
      "Epoch 55/100\n",
      "4685/4685 - 0s - loss: 0.5581 - binary_accuracy: 0.7535 - val_loss: 1.4708 - val_binary_accuracy: 0.0000e+00\n",
      "Epoch 56/100\n",
      "4685/4685 - 0s - loss: 0.5576 - binary_accuracy: 0.7535 - val_loss: 1.3419 - val_binary_accuracy: 0.0000e+00\n",
      "Epoch 57/100\n",
      "4685/4685 - 0s - loss: 0.5581 - binary_accuracy: 0.7535 - val_loss: 1.4230 - val_binary_accuracy: 0.0000e+00\n",
      "Epoch 58/100\n",
      "4685/4685 - 0s - loss: 0.5576 - binary_accuracy: 0.7535 - val_loss: 1.3722 - val_binary_accuracy: 0.0000e+00\n",
      "Epoch 59/100\n",
      "4685/4685 - 0s - loss: 0.5592 - binary_accuracy: 0.7535 - val_loss: 1.4716 - val_binary_accuracy: 0.0000e+00\n",
      "Epoch 60/100\n",
      "4685/4685 - 0s - loss: 0.5596 - binary_accuracy: 0.7535 - val_loss: 1.3203 - val_binary_accuracy: 0.0000e+00\n",
      "Epoch 61/100\n",
      "4685/4685 - 0s - loss: 0.5625 - binary_accuracy: 0.7535 - val_loss: 1.4604 - val_binary_accuracy: 0.0000e+00\n",
      "Epoch 62/100\n",
      "4685/4685 - 0s - loss: 0.5635 - binary_accuracy: 0.7535 - val_loss: 1.3479 - val_binary_accuracy: 0.0000e+00\n",
      "Epoch 63/100\n",
      "4685/4685 - 0s - loss: 0.5632 - binary_accuracy: 0.7535 - val_loss: 1.3083 - val_binary_accuracy: 0.0000e+00\n",
      "Epoch 64/100\n",
      "4685/4685 - 0s - loss: 0.5568 - binary_accuracy: 0.7535 - val_loss: 1.5723 - val_binary_accuracy: 0.0000e+00\n",
      "Epoch 65/100\n",
      "4685/4685 - 0s - loss: 0.5583 - binary_accuracy: 0.7535 - val_loss: 1.3007 - val_binary_accuracy: 0.0000e+00\n",
      "Epoch 66/100\n",
      "4685/4685 - 0s - loss: 0.5582 - binary_accuracy: 0.7535 - val_loss: 1.4644 - val_binary_accuracy: 0.0000e+00\n",
      "Epoch 67/100\n",
      "4685/4685 - 0s - loss: 0.5577 - binary_accuracy: 0.7535 - val_loss: 1.3875 - val_binary_accuracy: 0.0000e+00\n"
     ]
    },
    {
     "name": "stdout",
     "output_type": "stream",
     "text": [
      "Epoch 68/100\n",
      "4685/4685 - 0s - loss: 0.5566 - binary_accuracy: 0.7535 - val_loss: 1.4416 - val_binary_accuracy: 0.0000e+00\n",
      "Epoch 69/100\n",
      "4685/4685 - 0s - loss: 0.5577 - binary_accuracy: 0.7535 - val_loss: 1.3323 - val_binary_accuracy: 0.0000e+00\n",
      "Epoch 70/100\n",
      "4685/4685 - 0s - loss: 0.5597 - binary_accuracy: 0.7535 - val_loss: 1.4327 - val_binary_accuracy: 0.0000e+00\n",
      "Epoch 71/100\n",
      "4685/4685 - 0s - loss: 0.5596 - binary_accuracy: 0.7535 - val_loss: 1.3683 - val_binary_accuracy: 0.0000e+00\n",
      "Epoch 72/100\n",
      "4685/4685 - 0s - loss: 0.5599 - binary_accuracy: 0.7535 - val_loss: 1.3522 - val_binary_accuracy: 0.0000e+00\n",
      "Epoch 73/100\n",
      "4685/4685 - 0s - loss: 0.5611 - binary_accuracy: 0.7535 - val_loss: 1.4280 - val_binary_accuracy: 0.0000e+00\n",
      "Epoch 74/100\n",
      "4685/4685 - 0s - loss: 0.5599 - binary_accuracy: 0.7535 - val_loss: 1.2988 - val_binary_accuracy: 0.0000e+00\n",
      "Epoch 75/100\n",
      "4685/4685 - 0s - loss: 0.5606 - binary_accuracy: 0.7535 - val_loss: 1.4886 - val_binary_accuracy: 0.0000e+00\n",
      "Epoch 76/100\n",
      "4685/4685 - 0s - loss: 0.5566 - binary_accuracy: 0.7535 - val_loss: 1.3007 - val_binary_accuracy: 0.0000e+00\n",
      "Epoch 77/100\n",
      "4685/4685 - 0s - loss: 0.5583 - binary_accuracy: 0.7535 - val_loss: 1.4828 - val_binary_accuracy: 0.0000e+00\n",
      "Epoch 78/100\n",
      "4685/4685 - 0s - loss: 0.5561 - binary_accuracy: 0.7535 - val_loss: 1.3264 - val_binary_accuracy: 0.0000e+00\n",
      "Epoch 79/100\n",
      "4685/4685 - 0s - loss: 0.5570 - binary_accuracy: 0.7535 - val_loss: 1.4447 - val_binary_accuracy: 0.0000e+00\n",
      "Epoch 80/100\n",
      "4685/4685 - 0s - loss: 0.5574 - binary_accuracy: 0.7535 - val_loss: 1.3840 - val_binary_accuracy: 0.0000e+00\n",
      "Epoch 81/100\n",
      "4685/4685 - 0s - loss: 0.5585 - binary_accuracy: 0.7535 - val_loss: 1.3842 - val_binary_accuracy: 0.0000e+00\n",
      "Epoch 82/100\n",
      "4685/4685 - 0s - loss: 0.5580 - binary_accuracy: 0.7535 - val_loss: 1.4611 - val_binary_accuracy: 0.0000e+00\n",
      "Epoch 83/100\n",
      "4685/4685 - 0s - loss: 0.5570 - binary_accuracy: 0.7535 - val_loss: 1.3565 - val_binary_accuracy: 0.0000e+00\n",
      "Epoch 84/100\n",
      "4685/4685 - 0s - loss: 0.5560 - binary_accuracy: 0.7535 - val_loss: 1.4688 - val_binary_accuracy: 0.0000e+00\n",
      "Epoch 85/100\n",
      "4685/4685 - 0s - loss: 0.5563 - binary_accuracy: 0.7535 - val_loss: 1.3925 - val_binary_accuracy: 0.0000e+00\n",
      "Epoch 86/100\n",
      "4685/4685 - 0s - loss: 0.5559 - binary_accuracy: 0.7535 - val_loss: 1.4315 - val_binary_accuracy: 0.0000e+00\n",
      "Epoch 87/100\n",
      "4685/4685 - 0s - loss: 0.5557 - binary_accuracy: 0.7535 - val_loss: 1.3530 - val_binary_accuracy: 0.0000e+00\n",
      "Epoch 88/100\n",
      "4685/4685 - 0s - loss: 0.5561 - binary_accuracy: 0.7535 - val_loss: 1.4400 - val_binary_accuracy: 0.0000e+00\n",
      "Epoch 89/100\n",
      "4685/4685 - 0s - loss: 0.5552 - binary_accuracy: 0.7535 - val_loss: 1.3710 - val_binary_accuracy: 0.0000e+00\n",
      "Epoch 90/100\n",
      "4685/4685 - 0s - loss: 0.5562 - binary_accuracy: 0.7535 - val_loss: 1.4861 - val_binary_accuracy: 0.0000e+00\n",
      "Epoch 91/100\n",
      "4685/4685 - 0s - loss: 0.5571 - binary_accuracy: 0.7535 - val_loss: 1.3040 - val_binary_accuracy: 0.0000e+00\n",
      "Epoch 92/100\n",
      "4685/4685 - 0s - loss: 0.5560 - binary_accuracy: 0.7535 - val_loss: 1.5085 - val_binary_accuracy: 0.0000e+00\n",
      "Epoch 93/100\n",
      "4685/4685 - 0s - loss: 0.5556 - binary_accuracy: 0.7535 - val_loss: 1.2887 - val_binary_accuracy: 0.0000e+00\n",
      "Epoch 94/100\n",
      "4685/4685 - 0s - loss: 0.5562 - binary_accuracy: 0.7535 - val_loss: 1.5496 - val_binary_accuracy: 0.0000e+00\n",
      "Epoch 95/100\n",
      "4685/4685 - 0s - loss: 0.5562 - binary_accuracy: 0.7535 - val_loss: 1.3160 - val_binary_accuracy: 0.0000e+00\n",
      "Epoch 96/100\n",
      "4685/4685 - 0s - loss: 0.5555 - binary_accuracy: 0.7535 - val_loss: 1.5017 - val_binary_accuracy: 0.0000e+00\n",
      "Epoch 97/100\n",
      "4685/4685 - 0s - loss: 0.5563 - binary_accuracy: 0.7535 - val_loss: 1.2918 - val_binary_accuracy: 0.0000e+00\n",
      "Epoch 98/100\n",
      "4685/4685 - 0s - loss: 0.5570 - binary_accuracy: 0.7535 - val_loss: 1.5364 - val_binary_accuracy: 0.0000e+00\n",
      "Epoch 99/100\n",
      "4685/4685 - 0s - loss: 0.5555 - binary_accuracy: 0.7535 - val_loss: 1.3441 - val_binary_accuracy: 0.0000e+00\n",
      "Epoch 100/100\n",
      "4685/4685 - 0s - loss: 0.5552 - binary_accuracy: 0.7535 - val_loss: 1.4440 - val_binary_accuracy: 0.0000e+00\n"
     ]
    },
    {
     "data": {
      "text/plain": [
       "<tensorflow.python.keras.callbacks.History at 0x2463c9b8a48>"
      ]
     },
     "execution_count": 10,
     "metadata": {},
     "output_type": "execute_result"
    }
   ],
   "source": [
    "predict_model.fit([miRNA_train, drug_train], correlation_train, verbose = 2, epochs = 100, batch_size = 1024, validation_split = 0.33)"
   ]
  },
  {
   "cell_type": "code",
   "execution_count": 11,
   "id": "682224a0",
   "metadata": {},
   "outputs": [],
   "source": [
    "sampledata = predict_model.predict([miRNA_train, drug_train])"
   ]
  },
  {
   "cell_type": "code",
   "execution_count": 12,
   "id": "bdee45c1",
   "metadata": {
    "scrolled": true
   },
   "outputs": [
    {
     "name": "stdout",
     "output_type": "stream",
     "text": [
      "0\n",
      "[0.7436589]\n"
     ]
    }
   ],
   "source": [
    "print(correlation_train[6000])\n",
    "print(sampledata[6000])"
   ]
  },
  {
   "cell_type": "code",
   "execution_count": 13,
   "id": "f40a7865",
   "metadata": {},
   "outputs": [],
   "source": [
    "from sklearn.metrics import accuracy_score"
   ]
  },
  {
   "cell_type": "code",
   "execution_count": 14,
   "id": "e3f904ae",
   "metadata": {},
   "outputs": [],
   "source": [
    "my_accuracy = accuracy_score(correlation_train, sampledata.round())"
   ]
  },
  {
   "cell_type": "code",
   "execution_count": 15,
   "id": "7adec198",
   "metadata": {},
   "outputs": [
    {
     "name": "stdout",
     "output_type": "stream",
     "text": [
      "0.5047905047905048\n"
     ]
    }
   ],
   "source": [
    "print(my_accuracy)"
   ]
  },
  {
   "cell_type": "code",
   "execution_count": null,
   "id": "61b73996",
   "metadata": {},
   "outputs": [],
   "source": []
  }
 ],
 "metadata": {
  "kernelspec": {
   "display_name": "Python 3 (ipykernel)",
   "language": "python",
   "name": "python3"
  },
  "language_info": {
   "codemirror_mode": {
    "name": "ipython",
    "version": 3
   },
   "file_extension": ".py",
   "mimetype": "text/x-python",
   "name": "python",
   "nbconvert_exporter": "python",
   "pygments_lexer": "ipython3",
   "version": "3.7.13"
  }
 },
 "nbformat": 4,
 "nbformat_minor": 5
}
