{
 "cells": [
  {
   "cell_type": "code",
   "execution_count": 3,
   "id": "dfb6ad7c",
   "metadata": {},
   "outputs": [],
   "source": [
    "import openpyxl as xl"
   ]
  },
  {
   "cell_type": "code",
   "execution_count": 7,
   "id": "af01fa11",
   "metadata": {},
   "outputs": [],
   "source": [
    "wb = xl.Workbook()\n",
    "w1 = wb['Sheet']"
   ]
  },
  {
   "cell_type": "code",
   "execution_count": 28,
   "id": "6a9342fa",
   "metadata": {},
   "outputs": [],
   "source": [
    "for i in range(1, 11):\n",
    "    for j in range(1, 3):\n",
    "        w1.cell(i, j).value = i*j"
   ]
  },
  {
   "cell_type": "code",
   "execution_count": 29,
   "id": "82c0600b",
   "metadata": {},
   "outputs": [],
   "source": [
    "wb.save('test.xlsx')"
   ]
  },
  {
   "cell_type": "code",
   "execution_count": null,
   "id": "06c9b05d",
   "metadata": {},
   "outputs": [],
   "source": []
  }
 ],
 "metadata": {
  "kernelspec": {
   "display_name": "Python 3 (ipykernel)",
   "language": "python",
   "name": "python3"
  },
  "language_info": {
   "codemirror_mode": {
    "name": "ipython",
    "version": 3
   },
   "file_extension": ".py",
   "mimetype": "text/x-python",
   "name": "python",
   "nbconvert_exporter": "python",
   "pygments_lexer": "ipython3",
   "version": "3.7.13"
  }
 },
 "nbformat": 4,
 "nbformat_minor": 5
}
