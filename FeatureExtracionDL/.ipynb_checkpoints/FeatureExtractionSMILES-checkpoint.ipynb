{
 "cells": [
  {
   "cell_type": "code",
   "execution_count": 1,
   "id": "0fc2bf77",
   "metadata": {},
   "outputs": [],
   "source": [
    "import numpy as np\n",
    "import csv\n",
    "from rdkit import Chem\n",
    "import matplotlib.pyplot as plt\n",
    "import openpyxl as xl\n",
    "%matplotlib inline\n",
    "\n",
    "from tensorflow.keras import layers, models, optimizers\n",
    "from tensorflow.keras.layers import Conv2D, Conv2DTranspose, Dense, Flatten, Dropout, BatchNormalization, Reshape, LeakyReLU\n",
    "from tensorflow.keras.models import Model, Sequential\n",
    "from tensorflow.keras.callbacks import ModelCheckpoint\n",
    "from tensorflow.keras.utils import to_categorical\n",
    "import tensorflow as tf"
   ]
  },
  {
   "cell_type": "code",
   "execution_count": 2,
   "id": "f68d56eb",
   "metadata": {},
   "outputs": [],
   "source": [
    "SMILES_CHARS = [' ',\n",
    "                  '#', '%', '(', ')', '+', '-', '.', '/', '_', '_', '_', '_', '_', '_', '_', '_'\n",
    "                  '0', '1', '2', '3', '4', '5', '6', '7', '8', '9',\n",
    "                  '=', '@',\n",
    "                  'A', 'B', 'C', 'F', 'H', 'I', 'K', 'L', 'M', 'N', 'O', 'P',\n",
    "                  'R', 'S', 'T', 'V', 'X', 'Z',\n",
    "                  '[', '\\\\', ']',\n",
    "                  'a', 'b', 'c', 'e', 'g', 'i', 'l', 'n', 'o', 'p', 'r', 's',\n",
    "                  't', 'u', 'd']\n",
    "smi2index = dict( (c,i) for i,c in enumerate( SMILES_CHARS ) )\n",
    "index2smi = dict( (i,c) for i,c in enumerate( SMILES_CHARS ) )\n",
    "def smiles_encoder( smiles, maxlen=1024 ):\n",
    "    smiles = Chem.MolToSmiles(Chem.MolFromSmiles( smiles ))\n",
    "    X = np.zeros( ( maxlen, len( SMILES_CHARS ) ) )\n",
    "    for i, c in enumerate( smiles ):\n",
    "        X[i, smi2index[c] ] = 1\n",
    "    return X\n"
   ]
  },
  {
   "cell_type": "code",
   "execution_count": 3,
   "id": "1403ff1b",
   "metadata": {},
   "outputs": [],
   "source": [
    "cid = []\n",
    "smiles = []\n",
    "with open('SMILES.csv', 'r') as csvfile: \n",
    "    reader = csv.reader(csvfile, skipinitialspace=True)\n",
    "    next(reader)\n",
    "    for num, val in reader:\n",
    "        cid.append(num)\n",
    "        smiles.append(val)"
   ]
  },
  {
   "cell_type": "code",
   "execution_count": 4,
   "id": "36990268",
   "metadata": {
    "scrolled": true
   },
   "outputs": [
    {
     "name": "stdout",
     "output_type": "stream",
     "text": [
      "(206, 1024, 64)\n"
     ]
    }
   ],
   "source": [
    "temp_list = []\n",
    "for i in smiles:\n",
    "    temp_list.append(smiles_encoder(i))\n",
    "onehot_smiles_list = np.array(temp_list)\n",
    "print(onehot_smiles_list.shape)"
   ]
  },
  {
   "cell_type": "code",
   "execution_count": 5,
   "id": "bc227b70",
   "metadata": {},
   "outputs": [
    {
     "name": "stdout",
     "output_type": "stream",
     "text": [
      "(206, 1024, 64, 1)\n"
     ]
    }
   ],
   "source": [
    "train_x = onehot_smiles_list.reshape((-1, 1024, 64, 1))\n",
    "print(train_x.shape)"
   ]
  },
  {
   "cell_type": "code",
   "execution_count": 20,
   "id": "c9c0d71c",
   "metadata": {},
   "outputs": [],
   "source": [
    "input_shape = (1024, 64, 1)\n",
    "input_tensor = layers.Input(input_shape)\n",
    "\n",
    "conv1 = layers.Conv2D(1, (3,3), padding='same', activation='relu')(input_tensor)\n",
    "pooling1 = layers.MaxPool2D((4,4),name='imlatent_layer')(conv1)\n",
    "\n",
    "conv2 = layers.Conv2D(1, (3,3), padding='same', activation='relu')(pooling1)\n",
    "pooling2 = layers.MaxPool2D((4,4),name='imlatent_layer2')(conv2)\n",
    "\n",
    "#conv3 = layers.Conv2D(1, (3,3), padding='same', activation='relu')(pooling2)\n",
    "#pooling3 = layers.MaxPool2D((4,4),name='imlatent_layer3')(conv3)\n",
    "\n",
    "#conv4 = layers.Conv2D(1, (3,3), padding='same', activation='relu')(pooling3)\n",
    "#pooling4 = layers.MaxPool2D((2,2),name='imlatent_layer4')(conv4)\n",
    "\n",
    "flatten1 = layers.Flatten()(pooling2)\n",
    "dense1 = layers.Dense(128, activation=\"relu\",name='latent_layer')(flatten1)\n",
    "\n",
    "latent_tensor = dense1\n",
    "\n",
    "dense2 = layers.Dense(64 * 4, activation=\"sigmoid\")(latent_tensor)\n",
    "reshaped = tf.reshape(dense2, [-1, 64, 4, 1])\n",
    "\n",
    "upsample1 = layers.UpSampling2D((4,4))(reshaped)\n",
    "deconv1 = layers.Conv2DTranspose(1, (3,3), padding='same', activation='sigmoid')(upsample1)\n",
    "\n",
    "upsample2 = layers.UpSampling2D((4,4))(deconv1)\n",
    "deconv2 = layers.Conv2DTranspose(1, (3,3), padding='same', activation='sigmoid')(upsample2)\n",
    "\n",
    "#upsample3 = layers.UpSampling2D((2,2))(deconv2)\n",
    "#deconv3 = layers.Conv2DTranspose(1, (3,3), padding='same', activation='sigmoid')(upsample3)\n",
    "\n",
    "#upsample4 = layers.UpSampling2D((2,2))(deconv3)\n",
    "#deconv4 = layers.Conv2DTranspose(1, (3,3), padding='same', activation='sigmoid')(upsample4)\n",
    "\n",
    "output_tensor = deconv2"
   ]
  },
  {
   "cell_type": "code",
   "execution_count": 21,
   "id": "b6ba079f",
   "metadata": {},
   "outputs": [],
   "source": [
    "ae = models.Model(input_tensor, output_tensor)\n",
    "ae.compile(optimizer = tf.keras.optimizers.Adam(0.0005), loss='mse', metrics=['accuracy'])"
   ]
  },
  {
   "cell_type": "code",
   "execution_count": 22,
   "id": "2b8a216d",
   "metadata": {},
   "outputs": [
    {
     "name": "stdout",
     "output_type": "stream",
     "text": [
      "Model: \"model_2\"\n",
      "_________________________________________________________________\n",
      "Layer (type)                 Output Shape              Param #   \n",
      "=================================================================\n",
      "input_2 (InputLayer)         [(None, 1024, 64, 1)]     0         \n",
      "_________________________________________________________________\n",
      "conv2d_4 (Conv2D)            (None, 1024, 64, 1)       10        \n",
      "_________________________________________________________________\n",
      "imlatent_layer (MaxPooling2D (None, 256, 16, 1)        0         \n",
      "_________________________________________________________________\n",
      "conv2d_5 (Conv2D)            (None, 256, 16, 1)        10        \n",
      "_________________________________________________________________\n",
      "imlatent_layer2 (MaxPooling2 (None, 64, 4, 1)          0         \n",
      "_________________________________________________________________\n",
      "flatten_1 (Flatten)          (None, 256)               0         \n",
      "_________________________________________________________________\n",
      "latent_layer (Dense)         (None, 128)               32896     \n",
      "_________________________________________________________________\n",
      "dense_1 (Dense)              (None, 256)               33024     \n",
      "_________________________________________________________________\n",
      "tf_op_layer_Reshape_1 (Tenso [(None, 64, 4, 1)]        0         \n",
      "_________________________________________________________________\n",
      "up_sampling2d_4 (UpSampling2 (None, 256, 16, 1)        0         \n",
      "_________________________________________________________________\n",
      "conv2d_transpose_4 (Conv2DTr (None, 256, 16, 1)        10        \n",
      "_________________________________________________________________\n",
      "up_sampling2d_5 (UpSampling2 (None, 1024, 64, 1)       0         \n",
      "_________________________________________________________________\n",
      "conv2d_transpose_5 (Conv2DTr (None, 1024, 64, 1)       10        \n",
      "=================================================================\n",
      "Total params: 65,960\n",
      "Trainable params: 65,960\n",
      "Non-trainable params: 0\n",
      "_________________________________________________________________\n"
     ]
    }
   ],
   "source": [
    "ae.summary()"
   ]
  },
  {
   "cell_type": "code",
   "execution_count": 23,
   "id": "18cbb8ee",
   "metadata": {},
   "outputs": [
    {
     "name": "stdout",
     "output_type": "stream",
     "text": [
      "Train on 206 samples\n",
      "Epoch 1/100\n",
      "206/206 - 1s - loss: 0.2662 - accuracy: 0.0330\n",
      "Epoch 2/100\n",
      "206/206 - 0s - loss: 0.2618 - accuracy: 0.0331\n",
      "Epoch 3/100\n",
      "206/206 - 0s - loss: 0.2575 - accuracy: 0.0331\n",
      "Epoch 4/100\n",
      "206/206 - 0s - loss: 0.2533 - accuracy: 0.0331\n",
      "Epoch 5/100\n",
      "206/206 - 0s - loss: 0.2493 - accuracy: 0.3792\n",
      "Epoch 6/100\n",
      "206/206 - 0s - loss: 0.2454 - accuracy: 0.9882\n",
      "Epoch 7/100\n",
      "206/206 - 0s - loss: 0.2416 - accuracy: 0.9981\n",
      "Epoch 8/100\n",
      "206/206 - 0s - loss: 0.2378 - accuracy: 0.9982\n",
      "Epoch 9/100\n",
      "206/206 - 0s - loss: 0.2340 - accuracy: 0.9989\n",
      "Epoch 10/100\n",
      "206/206 - 0s - loss: 0.2302 - accuracy: 0.9991\n",
      "Epoch 11/100\n",
      "206/206 - 0s - loss: 0.2264 - accuracy: 0.9991\n",
      "Epoch 12/100\n",
      "206/206 - 0s - loss: 0.2224 - accuracy: 0.9991\n",
      "Epoch 13/100\n",
      "206/206 - 0s - loss: 0.2184 - accuracy: 0.9991\n",
      "Epoch 14/100\n",
      "206/206 - 0s - loss: 0.2142 - accuracy: 0.9991\n",
      "Epoch 15/100\n",
      "206/206 - 0s - loss: 0.2099 - accuracy: 0.9991\n",
      "Epoch 16/100\n",
      "206/206 - 0s - loss: 0.2055 - accuracy: 0.9991\n",
      "Epoch 17/100\n",
      "206/206 - 0s - loss: 0.2008 - accuracy: 0.9991\n",
      "Epoch 18/100\n",
      "206/206 - 0s - loss: 0.1960 - accuracy: 0.9991\n",
      "Epoch 19/100\n",
      "206/206 - 0s - loss: 0.1908 - accuracy: 0.9991\n",
      "Epoch 20/100\n",
      "206/206 - 0s - loss: 0.1857 - accuracy: 0.9991\n",
      "Epoch 21/100\n",
      "206/206 - 0s - loss: 0.1808 - accuracy: 0.9991\n",
      "Epoch 22/100\n",
      "206/206 - 0s - loss: 0.1764 - accuracy: 0.9991\n",
      "Epoch 23/100\n",
      "206/206 - 0s - loss: 0.1721 - accuracy: 0.9991\n",
      "Epoch 24/100\n",
      "206/206 - 0s - loss: 0.1680 - accuracy: 0.9991\n",
      "Epoch 25/100\n",
      "206/206 - 0s - loss: 0.1641 - accuracy: 0.9991\n",
      "Epoch 26/100\n",
      "206/206 - 0s - loss: 0.1602 - accuracy: 0.9991\n",
      "Epoch 27/100\n",
      "206/206 - 0s - loss: 0.1564 - accuracy: 0.9991\n",
      "Epoch 28/100\n",
      "206/206 - 0s - loss: 0.1526 - accuracy: 0.9991\n",
      "Epoch 29/100\n",
      "206/206 - 0s - loss: 0.1490 - accuracy: 0.9991\n",
      "Epoch 30/100\n",
      "206/206 - 0s - loss: 0.1455 - accuracy: 0.9991\n",
      "Epoch 31/100\n",
      "206/206 - 0s - loss: 0.1420 - accuracy: 0.9991\n",
      "Epoch 32/100\n",
      "206/206 - 0s - loss: 0.1386 - accuracy: 0.9991\n",
      "Epoch 33/100\n",
      "206/206 - 0s - loss: 0.1353 - accuracy: 0.9991\n",
      "Epoch 34/100\n",
      "206/206 - 0s - loss: 0.1321 - accuracy: 0.9991\n",
      "Epoch 35/100\n",
      "206/206 - 0s - loss: 0.1289 - accuracy: 0.9991\n",
      "Epoch 36/100\n",
      "206/206 - 0s - loss: 0.1259 - accuracy: 0.9991\n",
      "Epoch 37/100\n",
      "206/206 - 0s - loss: 0.1229 - accuracy: 0.9991\n",
      "Epoch 38/100\n",
      "206/206 - 0s - loss: 0.1200 - accuracy: 0.9991\n",
      "Epoch 39/100\n",
      "206/206 - 0s - loss: 0.1171 - accuracy: 0.9991\n",
      "Epoch 40/100\n",
      "206/206 - 0s - loss: 0.1143 - accuracy: 0.9991\n",
      "Epoch 41/100\n",
      "206/206 - 0s - loss: 0.1116 - accuracy: 0.9991\n",
      "Epoch 42/100\n",
      "206/206 - 0s - loss: 0.1090 - accuracy: 0.9991\n",
      "Epoch 43/100\n",
      "206/206 - 0s - loss: 0.1064 - accuracy: 0.9991\n",
      "Epoch 44/100\n",
      "206/206 - 0s - loss: 0.1039 - accuracy: 0.9991\n",
      "Epoch 45/100\n",
      "206/206 - 0s - loss: 0.1014 - accuracy: 0.9991\n",
      "Epoch 46/100\n",
      "206/206 - 0s - loss: 0.0990 - accuracy: 0.9991\n",
      "Epoch 47/100\n",
      "206/206 - 0s - loss: 0.0967 - accuracy: 0.9991\n",
      "Epoch 48/100\n",
      "206/206 - 0s - loss: 0.0945 - accuracy: 0.9991\n",
      "Epoch 49/100\n",
      "206/206 - 0s - loss: 0.0923 - accuracy: 0.9991\n",
      "Epoch 50/100\n",
      "206/206 - 0s - loss: 0.0901 - accuracy: 0.9991\n",
      "Epoch 51/100\n",
      "206/206 - 0s - loss: 0.0880 - accuracy: 0.9991\n",
      "Epoch 52/100\n",
      "206/206 - 0s - loss: 0.0860 - accuracy: 0.9991\n",
      "Epoch 53/100\n",
      "206/206 - 0s - loss: 0.0840 - accuracy: 0.9991\n",
      "Epoch 54/100\n",
      "206/206 - 0s - loss: 0.0821 - accuracy: 0.9991\n",
      "Epoch 55/100\n",
      "206/206 - 0s - loss: 0.0802 - accuracy: 0.9991\n",
      "Epoch 56/100\n",
      "206/206 - 0s - loss: 0.0784 - accuracy: 0.9991\n",
      "Epoch 57/100\n",
      "206/206 - 0s - loss: 0.0766 - accuracy: 0.9991\n",
      "Epoch 58/100\n",
      "206/206 - 0s - loss: 0.0749 - accuracy: 0.9991\n",
      "Epoch 59/100\n",
      "206/206 - 0s - loss: 0.0732 - accuracy: 0.9991\n",
      "Epoch 60/100\n",
      "206/206 - 0s - loss: 0.0715 - accuracy: 0.9991\n",
      "Epoch 61/100\n",
      "206/206 - 0s - loss: 0.0699 - accuracy: 0.9991\n",
      "Epoch 62/100\n",
      "206/206 - 0s - loss: 0.0684 - accuracy: 0.9991\n",
      "Epoch 63/100\n",
      "206/206 - 0s - loss: 0.0669 - accuracy: 0.9991\n",
      "Epoch 64/100\n",
      "206/206 - 0s - loss: 0.0654 - accuracy: 0.9991\n",
      "Epoch 65/100\n",
      "206/206 - 0s - loss: 0.0640 - accuracy: 0.9991\n",
      "Epoch 66/100\n",
      "206/206 - 0s - loss: 0.0626 - accuracy: 0.9991\n",
      "Epoch 67/100\n",
      "206/206 - 0s - loss: 0.0612 - accuracy: 0.9991\n",
      "Epoch 68/100\n",
      "206/206 - 0s - loss: 0.0599 - accuracy: 0.9991\n",
      "Epoch 69/100\n",
      "206/206 - 0s - loss: 0.0586 - accuracy: 0.9991\n",
      "Epoch 70/100\n",
      "206/206 - 0s - loss: 0.0573 - accuracy: 0.9991\n",
      "Epoch 71/100\n",
      "206/206 - 0s - loss: 0.0561 - accuracy: 0.9991\n",
      "Epoch 72/100\n",
      "206/206 - 0s - loss: 0.0549 - accuracy: 0.9991\n",
      "Epoch 73/100\n",
      "206/206 - 0s - loss: 0.0538 - accuracy: 0.9991\n",
      "Epoch 74/100\n",
      "206/206 - 0s - loss: 0.0527 - accuracy: 0.9991\n",
      "Epoch 75/100\n",
      "206/206 - 0s - loss: 0.0516 - accuracy: 0.9991\n",
      "Epoch 76/100\n",
      "206/206 - 0s - loss: 0.0505 - accuracy: 0.9991\n",
      "Epoch 77/100\n",
      "206/206 - 0s - loss: 0.0495 - accuracy: 0.9991\n",
      "Epoch 78/100\n",
      "206/206 - 0s - loss: 0.0485 - accuracy: 0.9991\n",
      "Epoch 79/100\n",
      "206/206 - 0s - loss: 0.0475 - accuracy: 0.9991\n",
      "Epoch 80/100\n",
      "206/206 - 0s - loss: 0.0465 - accuracy: 0.9991\n",
      "Epoch 81/100\n",
      "206/206 - 0s - loss: 0.0456 - accuracy: 0.9991\n",
      "Epoch 82/100\n",
      "206/206 - 0s - loss: 0.0447 - accuracy: 0.9991\n",
      "Epoch 83/100\n",
      "206/206 - 0s - loss: 0.0438 - accuracy: 0.9991\n",
      "Epoch 84/100\n",
      "206/206 - 0s - loss: 0.0429 - accuracy: 0.9991\n",
      "Epoch 85/100\n",
      "206/206 - 0s - loss: 0.0421 - accuracy: 0.9991\n",
      "Epoch 86/100\n",
      "206/206 - 0s - loss: 0.0413 - accuracy: 0.9991\n",
      "Epoch 87/100\n",
      "206/206 - 0s - loss: 0.0405 - accuracy: 0.9991\n",
      "Epoch 88/100\n",
      "206/206 - 0s - loss: 0.0397 - accuracy: 0.9991\n",
      "Epoch 89/100\n",
      "206/206 - 0s - loss: 0.0389 - accuracy: 0.9991\n",
      "Epoch 90/100\n",
      "206/206 - 0s - loss: 0.0382 - accuracy: 0.9991\n",
      "Epoch 91/100\n",
      "206/206 - 0s - loss: 0.0375 - accuracy: 0.9991\n",
      "Epoch 92/100\n",
      "206/206 - 0s - loss: 0.0368 - accuracy: 0.9991\n",
      "Epoch 93/100\n",
      "206/206 - 0s - loss: 0.0361 - accuracy: 0.9991\n",
      "Epoch 94/100\n",
      "206/206 - 0s - loss: 0.0354 - accuracy: 0.9991\n",
      "Epoch 95/100\n",
      "206/206 - 0s - loss: 0.0348 - accuracy: 0.9991\n",
      "Epoch 96/100\n",
      "206/206 - 0s - loss: 0.0341 - accuracy: 0.9991\n",
      "Epoch 97/100\n",
      "206/206 - 0s - loss: 0.0335 - accuracy: 0.9991\n",
      "Epoch 98/100\n",
      "206/206 - 0s - loss: 0.0329 - accuracy: 0.9991\n",
      "Epoch 99/100\n",
      "206/206 - 0s - loss: 0.0323 - accuracy: 0.9991\n",
      "Epoch 100/100\n",
      "206/206 - 0s - loss: 0.0317 - accuracy: 0.9991\n"
     ]
    },
    {
     "data": {
      "text/plain": [
       "<tensorflow.python.keras.callbacks.History at 0x2b10a866e88>"
      ]
     },
     "execution_count": 23,
     "metadata": {},
     "output_type": "execute_result"
    }
   ],
   "source": [
    "epoch=100\n",
    "batch_size=32\n",
    "\n",
    "ae.fit(train_x, train_x,\n",
    "      batch_size = batch_size,\n",
    "      epochs=epoch,\n",
    "      verbose=2)"
   ]
  },
  {
   "cell_type": "code",
   "execution_count": 10,
   "id": "68879ecc",
   "metadata": {},
   "outputs": [
    {
     "name": "stdout",
     "output_type": "stream",
     "text": [
      "[[0. 0. 0. ... 0. 0. 0.]\n",
      " [0. 0. 0. ... 0. 0. 0.]\n",
      " [0. 0. 0. ... 0. 0. 0.]\n",
      " ...\n",
      " [0. 0. 0. ... 0. 0. 0.]\n",
      " [0. 0. 0. ... 0. 0. 0.]\n",
      " [0. 0. 0. ... 0. 0. 0.]]\n"
     ]
    }
   ],
   "source": [
    "print(train_x[19].reshape(1024, 64))"
   ]
  },
  {
   "cell_type": "code",
   "execution_count": 11,
   "id": "26b419c6",
   "metadata": {},
   "outputs": [
    {
     "name": "stdout",
     "output_type": "stream",
     "text": [
      "[[0.20712812 0.16648932 0.16051024 ... 0.16687477 0.17921308 0.27409315]\n",
      " [0.18912381 0.12427933 0.11485466 ... 0.10564551 0.11985246 0.15845707]\n",
      " [0.1936338  0.12629987 0.11290579 ... 0.10500666 0.11653868 0.15540384]\n",
      " ...\n",
      " [0.22403754 0.16265222 0.14142466 ... 0.12864196 0.13882913 0.16192141]\n",
      " [0.24537995 0.17261769 0.1468199  ... 0.1348542  0.14467111 0.16926016]\n",
      " [0.35638878 0.3632024  0.32092187 ... 0.311336   0.32527378 0.27170733]]\n"
     ]
    }
   ],
   "source": [
    "decoded_smiles = ae.predict(train_x[19].reshape(1, 1024 , 64, 1))\n",
    "print(decoded_smiles.reshape(1024, 64))"
   ]
  },
  {
   "cell_type": "code",
   "execution_count": 12,
   "id": "6df80240",
   "metadata": {},
   "outputs": [],
   "source": [
    "feature_layer_model = models.Model(inputs=ae.input,\n",
    "                                       outputs=ae.get_layer('latent_layer').output)\n",
    "feature_output = feature_layer_model.predict(train_x[5].reshape(1, 1024, 64, 1))"
   ]
  },
  {
   "cell_type": "code",
   "execution_count": 13,
   "id": "fd7db58f",
   "metadata": {},
   "outputs": [
    {
     "name": "stdout",
     "output_type": "stream",
     "text": [
      "[[3.9444644 0.2804415 0.        3.4649694 0.        6.068765  3.4025013\n",
      "  0.        1.2272887 0.        6.1782007 1.3769165 6.4567766 0.\n",
      "  0.        0.        0.        0.        0.        8.997435  3.1276824\n",
      "  5.0074215 0.        0.        0.        0.        3.1346252 0.\n",
      "  0.        7.8993464 1.2959527 2.9485197 0.        0.        0.\n",
      "  0.        0.        5.5912127 0.        0.        0.        0.\n",
      "  4.8017926 0.        1.9556081 4.643879  4.341683  0.        6.5942855\n",
      "  0.        7.879068  0.        0.        2.0449655 4.94953   0.\n",
      "  0.        0.        8.4678545 0.        0.        0.        0.\n",
      "  0.        0.        7.2130604 0.        4.038893  0.        0.\n",
      "  6.213877  6.525354  7.997054  0.5715022 4.015274  0.        0.\n",
      "  5.3507576 4.199129  4.4273577 0.        1.75201   7.169049  0.\n",
      "  0.        7.3910565 0.        6.8272853 3.2000897 0.        3.2368815\n",
      "  0.        0.        0.        0.        7.431835  0.        8.553125\n",
      "  0.        1.7989001 5.6844244 0.        8.316126  0.        0.\n",
      "  0.        0.        0.        4.3877535 8.1626625 0.        0.\n",
      "  0.        2.0540178 0.        4.060079  5.10026   0.        3.0445201\n",
      "  0.        0.        2.3469615 0.        6.5503807 0.        0.9188918\n",
      "  9.310682  8.671765 ]]\n"
     ]
    }
   ],
   "source": [
    "print(feature_output)"
   ]
  },
  {
   "cell_type": "code",
   "execution_count": 14,
   "id": "9850ddfb",
   "metadata": {},
   "outputs": [
    {
     "name": "stdout",
     "output_type": "stream",
     "text": [
      "[[4.05404    0.16977392 0.         3.5206544  0.         6.070969\n",
      "  3.4253461  0.         1.1486619  0.         6.454553   1.4920875\n",
      "  6.5996037  0.         0.         0.         0.         0.\n",
      "  0.         9.219298   3.2673113  5.102209   0.         0.\n",
      "  0.         0.         3.3190012  0.         0.         8.029146\n",
      "  1.2464694  2.943461   0.         0.         0.         0.\n",
      "  0.         5.6530833  0.         0.         0.         0.\n",
      "  4.862102   0.         1.8952048  4.7464323  4.543423   0.\n",
      "  6.7621408  0.         7.957645   0.         0.         2.026635\n",
      "  5.0748463  0.         0.         0.         8.611637   0.\n",
      "  0.         0.         0.         0.         0.         7.285817\n",
      "  0.         4.1539283  0.         0.         6.3066792  6.6341586\n",
      "  8.064503   0.5489042  4.161539   0.         0.         5.545892\n",
      "  4.3930163  4.464465   0.         1.7219397  7.4374714  0.\n",
      "  0.         7.406318   0.         6.8944993  3.0676563  0.\n",
      "  3.3007038  0.         0.         0.         0.         7.601468\n",
      "  0.         8.578005   0.         1.7558866  5.819748   0.\n",
      "  8.460532   0.         0.         0.         0.         0.\n",
      "  4.2880225  8.3753195  0.         0.         0.         2.0421512\n",
      "  0.         4.082473   5.2098002  0.         3.2375815  0.\n",
      "  0.         2.401457   0.         6.8369837  0.         0.93640614\n",
      "  9.474834   8.944561  ]]\n"
     ]
    }
   ],
   "source": [
    "feature_output = feature_layer_model.predict(train_x[19].reshape(1, 1024, 64, 1))\n",
    "print(feature_output)"
   ]
  },
  {
   "cell_type": "code",
   "execution_count": 15,
   "id": "4410a8e4",
   "metadata": {},
   "outputs": [],
   "source": [
    "featureList = []\n",
    "for i in range (0, train_x.shape[0]):\n",
    "    fo = feature_layer_model.predict(train_x[i].reshape(1, 1024, 64, 1))\n",
    "    featureList.append(fo.tolist())"
   ]
  },
  {
   "cell_type": "code",
   "execution_count": 16,
   "id": "d848a75f",
   "metadata": {},
   "outputs": [
    {
     "name": "stdout",
     "output_type": "stream",
     "text": [
      "[3.9732320308685303, 0.22670704126358032, 0.0, 3.414579153060913, 0.0, 6.002467155456543, 3.442251443862915, 0.0, 1.1483378410339355, 0.0, 6.262481689453125, 1.434977412223816, 6.503018379211426, 0.0, 0.0, 0.0, 0.0, 0.0, 0.0, 9.041176795959473, 3.202993154525757, 4.975229263305664, 0.0, 0.0, 0.0, 0.0, 3.1910784244537354, 0.0, 0.0, 7.930080413818359, 1.2571386098861694, 2.940086841583252, 0.0, 0.0, 0.0, 0.0, 0.0, 5.579267501831055, 0.0, 0.0, 0.0, 0.0, 4.853625774383545, 0.0, 1.9774384498596191, 4.67396879196167, 4.451536178588867, 0.0, 6.650375843048096, 0.0, 7.941138744354248, 0.0, 0.0, 2.0049214363098145, 4.994362831115723, 0.0, 0.0, 0.0, 8.49977970123291, 0.0, 0.0, 0.0, 0.0, 0.0, 0.0, 7.21952486038208, 0.0, 4.114166736602783, 0.0, 0.0, 6.212805271148682, 6.5273966789245605, 8.015233039855957, 0.5626670122146606, 4.03936767578125, 0.0, 0.0, 5.349024772644043, 4.277531147003174, 4.485561370849609, 0.0, 1.8250845670700073, 7.214290142059326, 0.0, 0.0, 7.402918338775635, 0.0, 6.813878536224365, 3.0981338024139404, 0.0, 3.280484914779663, 0.0, 0.0, 0.0, 0.0, 7.532388687133789, 0.0, 8.542993545532227, 0.0, 1.7837152481079102, 5.751152992248535, 0.0, 8.376029014587402, 0.0, 0.0, 0.0, 0.0, 0.0, 4.352715969085693, 8.206616401672363, 0.0, 0.0, 0.0, 2.0186080932617188, 0.0, 4.070583343505859, 5.178483486175537, 0.0, 3.1876566410064697, 0.0, 0.0, 2.39037823677063, 0.0, 6.657114505767822, 0.0, 0.9206581115722656, 9.383491516113281, 8.774828910827637]\n",
      "['15', '241', '544', '702', '712', '784', '985', '1175', '1207', '1674', '1832', '1983', '2236', '2336', '2375', '2578', '2662', '2907', '2995', '3007', '3019', '3071', '3117', '3121', '3220', '3229', '3345', '3385', '3386', '3496', '3652', '3779', '3902', '4091', '4095', '4158', '4212', '4624', '4829', '4891', '4946', '5073', '5206', '5311', '5394', '5641', '5743', '5757', '5790', '5793', '5816', '5865', '5943', '5978', '5994', '6001', '6013', '6036', '6089', '6279', '6410', '6623', '7222', '8029', '8490', '9064', '9444', '10621', '10635', '10836', '12967', '13089', '13090', '13091', '13092', '13095', '13096', '13097', '13342', '14403', '14888', '15625', '15939', '16741', '21109', '23973', '24268', '24288', '24360', '24497', '29327', '31101', '31401', '31703', '36314', '36462', '41867', '42113', '47289', '47318', '47725', '47936', '53232', '60700', '60750', '60823', '60838', '60852', '60953', '72304', '73581', '74483', '89594', '91466', '93004', '97226', '107985', '108065', '114900', '119104', '119307', '122634', '123596', '123631', '145858', '148124', '162282', '164676', '210332', '216239', '216326', '222528', '222757', '229455', '265237', '387447', '441074', '442428', '442793', '443586', '444254', '444732', '444795', '444796', '444797', '445154', '445434', '445580', '445639', '445858', '446220', '448537', '451668', '452548', '455658', '460612', '462382', '638278', '667639', '689043', '737139', '969516', '2733526', '3028194', '5222465', '5280343', '5280445', '5280448', '5280453', '5280795', '5280896', '5280961', '5281004', '5281614', '5281708', '5281811', '5281929', '5282350', '5283344', '5284373', '5284616', '5288209', '5288826', '5310940', '5318517', '5329102', '5352624', '5359268', '5459308', '6440495', '6442177', '6918837', '9547215', '9576410', '9804992', '9898279', '9949648', '11953817', '16078949', '16132265', '21633059', '42611257', '46843772', '54670067', '54680783', '56843276']\n"
     ]
    }
   ],
   "source": [
    "print(featureList[1][0])\n",
    "print(cid)"
   ]
  },
  {
   "cell_type": "code",
   "execution_count": 17,
   "id": "6f2bb1cd",
   "metadata": {},
   "outputs": [],
   "source": [
    "wb = xl.Workbook()\n",
    "w1 = wb['Sheet']\n",
    "w1.cell(1, 1).value = 'CID'\n",
    "w1.cell(1, 2).value = 'feature'"
   ]
  },
  {
   "cell_type": "code",
   "execution_count": 18,
   "id": "d75395dd",
   "metadata": {},
   "outputs": [],
   "source": [
    "for i in range(2, len(featureList) + 2):\n",
    "        w1.cell(i, 1).value = cid[i-2]\n",
    "        for j in range(0, 128):\n",
    "            w1.cell(i, 2 + j).value = featureList[i-2][0][j]\n",
    "        "
   ]
  },
  {
   "cell_type": "code",
   "execution_count": 19,
   "id": "3b96ce0f",
   "metadata": {},
   "outputs": [],
   "source": [
    "wb.save('drugFeature.xlsx')"
   ]
  },
  {
   "cell_type": "code",
   "execution_count": null,
   "id": "a9b8e411",
   "metadata": {},
   "outputs": [],
   "source": []
  }
 ],
 "metadata": {
  "kernelspec": {
   "display_name": "Python 3 (ipykernel)",
   "language": "python",
   "name": "python3"
  },
  "language_info": {
   "codemirror_mode": {
    "name": "ipython",
    "version": 3
   },
   "file_extension": ".py",
   "mimetype": "text/x-python",
   "name": "python",
   "nbconvert_exporter": "python",
   "pygments_lexer": "ipython3",
   "version": "3.7.13"
  }
 },
 "nbformat": 4,
 "nbformat_minor": 5
}
